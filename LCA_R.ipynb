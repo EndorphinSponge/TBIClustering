{
 "cells": [
  {
   "cell_type": "code",
   "execution_count": 10,
   "metadata": {
    "vscode": {
     "languageId": "r"
    }
   },
   "outputs": [
    {
     "data": {
      "text/html": [
       "'c:/Users/steve/OneDrive - ualberta.ca/Coding/TBI Clustering'"
      ],
      "text/latex": [
       "'c:/Users/steve/OneDrive - ualberta.ca/Coding/TBI Clustering'"
      ],
      "text/markdown": [
       "'c:/Users/steve/OneDrive - ualberta.ca/Coding/TBI Clustering'"
      ],
      "text/plain": [
       "[1] \"c:/Users/steve/OneDrive - ualberta.ca/Coding/TBI Clustering\""
      ]
     },
     "metadata": {},
     "output_type": "display_data"
    }
   ],
   "source": [
    "# Imports\n",
    "getwd()\n",
    "library(poLCA)\n",
    "library(readxl)\n",
    "library(writexl)"
   ]
  },
  {
   "cell_type": "code",
   "execution_count": null,
   "metadata": {
    "vscode": {
     "languageId": "r"
    }
   },
   "outputs": [],
   "source": [
    "# Import data\n",
    "df <- read_excel(\"output.xlsx\")"
   ]
  },
  {
   "cell_type": "code",
   "execution_count": 18,
   "metadata": {
    "vscode": {
     "languageId": "r"
    }
   },
   "outputs": [
    {
     "data": {
      "text/plain": [
       "cbind(a, b, c) ~ 1"
      ]
     },
     "metadata": {},
     "output_type": "display_data"
    }
   ],
   "source": [
    "model <- cbind(a, b, c) ~ 1\n"
   ]
  },
  {
   "cell_type": "code",
   "execution_count": null,
   "metadata": {
    "vscode": {
     "languageId": "r"
    }
   },
   "outputs": [],
   "source": [
    "# Export data\n",
    "write_xlsx(df, \"exported_output.xlsx\")\n"
   ]
  }
 ],
 "metadata": {
  "kernelspec": {
   "display_name": "R",
   "language": "R",
   "name": "ir"
  },
  "language_info": {
   "codemirror_mode": "r",
   "file_extension": ".r",
   "mimetype": "text/x-r-source",
   "name": "R",
   "pygments_lexer": "r",
   "version": "4.2.0"
  },
  "orig_nbformat": 4
 },
 "nbformat": 4,
 "nbformat_minor": 2
}
